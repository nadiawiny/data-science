{
  "nbformat": 4,
  "nbformat_minor": 0,
  "metadata": {
    "colab": {
      "provenance": []
    },
    "kernelspec": {
      "name": "python3",
      "display_name": "Python 3"
    },
    "language_info": {
      "name": "python"
    }
  },
  "cells": [
    {
      "cell_type": "markdown",
      "source": [
        "**Lista de Exercícios Digitação com Listas, Tuplas, Dicionários e Strings.**\n",
        "\n",
        "**Aluna: Nádia Winy - ADS - 4M ED2 - 021**"
      ],
      "metadata": {
        "id": "XjSXl_SH46G5"
      }
    },
    {
      "cell_type": "markdown",
      "source": [
        "01 -"
      ],
      "metadata": {
        "id": "6EXGhS2f5IUv"
      }
    },
    {
      "cell_type": "code",
      "execution_count": null,
      "metadata": {
        "id": "LcgpKP4w45eA"
      },
      "outputs": [],
      "source": [
        "palavras = ['codigo', 'linguagem', 'web']\n",
        "numeros = [18, 123]\n",
        "varia = []\n",
        "lista_mista = ['oi', 2.0, 5*2, [10,20]]"
      ]
    },
    {
      "cell_type": "markdown",
      "source": [
        "02 -"
      ],
      "metadata": {
        "id": "eppQy72F6g6l"
      }
    },
    {
      "cell_type": "code",
      "source": [
        "print(numeros)\n",
        "\n",
        "print(lista_mista)\n"
      ],
      "metadata": {
        "colab": {
          "base_uri": "https://localhost:8080/"
        },
        "id": "jtSmEdr55ht9",
        "outputId": "dbb8ed98-525b-41fe-aa75-185863543764"
      },
      "execution_count": null,
      "outputs": [
        {
          "output_type": "stream",
          "name": "stdout",
          "text": [
            "[18, 123]\n",
            "['oi', 2.0, 10, [10, 20]]\n"
          ]
        }
      ]
    },
    {
      "cell_type": "code",
      "source": [
        "nova_lista = [numeros, palavras]\n"
      ],
      "metadata": {
        "id": "VtGGiEX858y3"
      },
      "execution_count": null,
      "outputs": []
    },
    {
      "cell_type": "code",
      "source": [
        "print(nova_lista + uma_lista)"
      ],
      "metadata": {
        "colab": {
          "base_uri": "https://localhost:8080/",
          "height": 175
        },
        "id": "Vf3RpSKs6dY1",
        "outputId": "0cab2e96-2b41-4887-f718-b0d03e3ec4e1"
      },
      "execution_count": null,
      "outputs": [
        {
          "output_type": "error",
          "ename": "TypeError",
          "evalue": "ignored",
          "traceback": [
            "\u001b[0;31m---------------------------------------------------------------------------\u001b[0m",
            "\u001b[0;31mTypeError\u001b[0m                                 Traceback (most recent call last)",
            "\u001b[0;32m<ipython-input-33-982f8098ae9d>\u001b[0m in \u001b[0;36m<cell line: 1>\u001b[0;34m()\u001b[0m\n\u001b[0;32m----> 1\u001b[0;31m \u001b[0mprint\u001b[0m\u001b[0;34m(\u001b[0m\u001b[0mnova_lista\u001b[0m \u001b[0;34m+\u001b[0m \u001b[0muma_lista\u001b[0m\u001b[0;34m)\u001b[0m\u001b[0;34m\u001b[0m\u001b[0;34m\u001b[0m\u001b[0m\n\u001b[0m",
            "\u001b[0;31mTypeError\u001b[0m: can only concatenate list (not \"int\") to list"
          ]
        }
      ]
    },
    {
      "cell_type": "markdown",
      "source": [
        "03 - O que é impresso pelo trecho de código a seguir?"
      ],
      "metadata": {
        "id": "P-ezou2j6kVt"
      }
    },
    {
      "cell_type": "code",
      "source": [
        "numeros = [18, 424, 86, 13, 66, 8338, 74]"
      ],
      "metadata": {
        "id": "sKrz-UM96fMX"
      },
      "execution_count": null,
      "outputs": []
    },
    {
      "cell_type": "code",
      "source": [
        "print(numeros[2])  ## vai retornar o número 86 do array\n",
        "\n",
        "print(numeros[9-8])  ## vai retornar o número 424 pois se subtraimos o 9-8 = 1 e o 424 é a posição 1 do array\n",
        "\n",
        "print(numeros[-2])  ## vai retornar o número 8338 pois o [-2] conta a posição de trais pra ferente pegando o penúltimo elemento do array"
      ],
      "metadata": {
        "colab": {
          "base_uri": "https://localhost:8080/"
        },
        "id": "8KcODo2362G8",
        "outputId": "7593e237-a896-4d83-f184-a54b5fae7d3b"
      },
      "execution_count": null,
      "outputs": [
        {
          "output_type": "stream",
          "name": "stdout",
          "text": [
            "86\n",
            "424\n",
            "8338\n"
          ]
        }
      ]
    },
    {
      "cell_type": "markdown",
      "source": [
        "04 - O que é impresso pelo trecho de código a seguir?"
      ],
      "metadata": {
        "id": "DM3s3dVx88uM"
      }
    },
    {
      "cell_type": "code",
      "source": [
        "uma_lista = [3, 5,'Cibele', 3.14, False]\n",
        "\n",
        "print(len(uma_lista))  ## vai retornar a quantidade de elementos de diferentes tipos contido na lista"
      ],
      "metadata": {
        "colab": {
          "base_uri": "https://localhost:8080/"
        },
        "id": "_HVP8BX89A8e",
        "outputId": "ba953b2d-30ec-484f-8d6c-3475232c51ca"
      },
      "execution_count": null,
      "outputs": [
        {
          "output_type": "stream",
          "name": "stdout",
          "text": [
            "5\n"
          ]
        }
      ]
    },
    {
      "cell_type": "markdown",
      "source": [
        "05 - O que é impresso pelo trecho de código a seguir?"
      ],
      "metadata": {
        "id": "J90qNJ0z9qC1"
      }
    },
    {
      "cell_type": "code",
      "source": [
        "uma_lista = [3, 5, 'Cibele', [88, 99, 'Suely'], [ ], 3.14, False]\n",
        "\n",
        "print(len(uma_lista))  ## vai retornar a quantidade de elementos de diferentes tipos contido na lista,\n",
        "                        # sendo [88, 99, 'Suely'] contado como 1 elemento,e os demais 6.\n",
        "                        # Resultando no final a lista tendo 7 elementos\n"
      ],
      "metadata": {
        "colab": {
          "base_uri": "https://localhost:8080/"
        },
        "id": "zYf2PAvY9seq",
        "outputId": "d8eaf376-e1c3-4262-e34e-b5a811430486"
      },
      "execution_count": null,
      "outputs": [
        {
          "output_type": "stream",
          "name": "stdout",
          "text": [
            "7\n"
          ]
        }
      ]
    },
    {
      "cell_type": "markdown",
      "source": [
        "06 - O que é impresso pelo trecho de código a seguir?"
      ],
      "metadata": {
        "id": "uFyl5OUCAZXl"
      }
    },
    {
      "cell_type": "code",
      "source": [
        "uma_lista = [3, 5, 'Cibele', [88, 99, 'Suely'], [ ], 3.14, False]\n",
        "\n",
        "print(uma_lista[5])  ## retornar só o elemento que está na 5 posição"
      ],
      "metadata": {
        "colab": {
          "base_uri": "https://localhost:8080/"
        },
        "id": "RvT_CFRcAete",
        "outputId": "22517c33-1eb7-4274-f61d-d9de23e06e28"
      },
      "execution_count": null,
      "outputs": [
        {
          "output_type": "stream",
          "name": "stdout",
          "text": [
            "3.14\n"
          ]
        }
      ]
    },
    {
      "cell_type": "markdown",
      "source": [
        "07 - O que é impresso pelo trecho de código a seguir?"
      ],
      "metadata": {
        "id": "FZwmQvHDA24U"
      }
    },
    {
      "cell_type": "code",
      "source": [
        "uma_lista = [3, 5, 'Cibele', [88, 99, 'Suely'], [ ], 3.14, False]\n",
        "\n",
        "print(uma_lista[2].upper())  ## vai retornar o elemento da posição 2 convertendo em maiúscula pq é usado a função upper()"
      ],
      "metadata": {
        "colab": {
          "base_uri": "https://localhost:8080/"
        },
        "id": "ci4M0q4FA7gR",
        "outputId": "41b5caaa-f8ad-4d11-e607-bf2923d912e4"
      },
      "execution_count": null,
      "outputs": [
        {
          "output_type": "stream",
          "name": "stdout",
          "text": [
            "CIBELE\n"
          ]
        }
      ]
    },
    {
      "cell_type": "markdown",
      "source": [
        "08 - O que é impresso pelo trecho de código a seguir?"
      ],
      "metadata": {
        "id": "-U8QYSiiBoXg"
      }
    },
    {
      "cell_type": "code",
      "source": [
        "uma_lista = [3, 5, \"Cibele\", [88, 99, \"Suely\"], [ ], 3.14, False]\n",
        "\n",
        "print(uma_lista[2][0]) ## vai retorna da posição 2 o elemento que está na posição 0 da string"
      ],
      "metadata": {
        "colab": {
          "base_uri": "https://localhost:8080/"
        },
        "id": "ccWkbvNfBp-o",
        "outputId": "d0d23fd7-cde7-407b-cf5f-17f0ab62e2f0"
      },
      "execution_count": null,
      "outputs": [
        {
          "output_type": "stream",
          "name": "stdout",
          "text": [
            "C\n"
          ]
        }
      ]
    },
    {
      "cell_type": "markdown",
      "source": [
        "09 - O que é impresso pelo trecho de código a seguir?"
      ],
      "metadata": {
        "id": "VZ8bFhxYCDQK"
      }
    },
    {
      "cell_type": "code",
      "source": [
        "uma_lista = [3, 5, \"Cibele\", [88, 99, \"Suely\"], [ ], 3.14, False]\n",
        "\n",
        "print(3.14 in uma_lista)  ## ele pergunta se o valor 3.14 pertence a lista e retorna o True afirmando que é verdadeiro"
      ],
      "metadata": {
        "colab": {
          "base_uri": "https://localhost:8080/"
        },
        "id": "LIB3AOhmCFw4",
        "outputId": "f47b0708-b744-48d2-93c1-aea0dcd23f51"
      },
      "execution_count": null,
      "outputs": [
        {
          "output_type": "stream",
          "name": "stdout",
          "text": [
            "True\n"
          ]
        }
      ]
    },
    {
      "cell_type": "markdown",
      "source": [
        "10 - O que é impresso pelo trecho de código a seguir?"
      ],
      "metadata": {
        "id": "LdmVxC7cCZn5"
      }
    },
    {
      "cell_type": "code",
      "source": [
        "uma_lista = [3, 5, 'Cibele', [88, 99, 'Suely'], [ ], 3.14, False]\n",
        "\n",
        "print(88 in uma_lista)  ## ele pergunta se o valor 88 pertence a lista e retorna o False dizendo que não pertence"
      ],
      "metadata": {
        "colab": {
          "base_uri": "https://localhost:8080/"
        },
        "id": "kGxG0xNGCd4A",
        "outputId": "4ef22282-0fed-4fc3-f077-348068b4ad39"
      },
      "execution_count": null,
      "outputs": [
        {
          "output_type": "stream",
          "name": "stdout",
          "text": [
            "False\n"
          ]
        }
      ]
    },
    {
      "cell_type": "markdown",
      "source": [
        "11 - O que é impresso pelo trecho de código a seguir?"
      ],
      "metadata": {
        "id": "P2c1BBC6DKaQ"
      }
    },
    {
      "cell_type": "code",
      "source": [
        "uma_lista = [1, 3, 5]\n",
        "outra_lista = [2, 4, 6]"
      ],
      "metadata": {
        "id": "iRj18IavbvQg"
      },
      "execution_count": null,
      "outputs": []
    },
    {
      "cell_type": "code",
      "source": [
        "print(uma_lista + outra_lista)  ## ele vai concatenar os valores de uma_lista e de outra_lista"
      ],
      "metadata": {
        "colab": {
          "base_uri": "https://localhost:8080/"
        },
        "id": "g2xR02AJb3Rq",
        "outputId": "f1fb4872-a825-4763-f8ef-bb04ce0c4ea1"
      },
      "execution_count": null,
      "outputs": [
        {
          "output_type": "stream",
          "name": "stdout",
          "text": [
            "[1, 3, 5, 2, 4, 6]\n"
          ]
        }
      ]
    },
    {
      "cell_type": "markdown",
      "source": [
        "12 - O que é impresso pelo trecho de código a seguir?"
      ],
      "metadata": {
        "id": "98KB1czJcIX2"
      }
    },
    {
      "cell_type": "code",
      "source": [
        "uma_lista = [1, 3, 5]\n",
        "\n",
        "print(uma_lista * 3) ## repetir 3 vez os valores contidos na lista"
      ],
      "metadata": {
        "colab": {
          "base_uri": "https://localhost:8080/"
        },
        "id": "zgt-jm1xcENV",
        "outputId": "2d775143-640f-4e75-a439-f97602700958"
      },
      "execution_count": null,
      "outputs": [
        {
          "output_type": "stream",
          "name": "stdout",
          "text": [
            "[1, 3, 5, 1, 3, 5, 1, 3, 5]\n"
          ]
        }
      ]
    },
    {
      "cell_type": "markdown",
      "source": [
        "13- O que é impresso pelo trecho de código a seguir?"
      ],
      "metadata": {
        "id": "lajvNN0McaKw"
      }
    },
    {
      "cell_type": "code",
      "source": [
        "uma_lista = [3, 5, 'Cibele', [88, 99, 'Suely'], [ ], 3.14, False]\n",
        "\n",
        "print(uma_lista[4:])  ## vai me retornar os elementos apartir da 4ª posição"
      ],
      "metadata": {
        "colab": {
          "base_uri": "https://localhost:8080/"
        },
        "id": "F1tbE4EZcefN",
        "outputId": "7cf55b3b-2d73-4dfc-cd72-246eda5d1c87"
      },
      "execution_count": null,
      "outputs": [
        {
          "output_type": "stream",
          "name": "stdout",
          "text": [
            "[[], 3.14, False]\n"
          ]
        }
      ]
    },
    {
      "cell_type": "markdown",
      "source": [
        "14 - O que é impresso pelo trecho de código a seguir?"
      ],
      "metadata": {
        "id": "Ncpnrs8Yc1e8"
      }
    },
    {
      "cell_type": "code",
      "source": [
        "uma_lista = ['a', 'b', 'c', 'd', 'e', 'f']\n",
        "uma_lista[1:3] = ['x', 'y']\n",
        "\n",
        "print(uma_lista) ## a operação [1:3] seleciona uma fatia nos elementos 1 e 2 do array, no qual será substituirdo pelos elementos ['x','y']"
      ],
      "metadata": {
        "colab": {
          "base_uri": "https://localhost:8080/"
        },
        "id": "7mM9eiPSc6rx",
        "outputId": "afe35e3b-8a68-43a2-8325-6d9ecbecb592"
      },
      "execution_count": null,
      "outputs": [
        {
          "output_type": "stream",
          "name": "stdout",
          "text": [
            "['a', 'x', 'y', 'd', 'e', 'f']\n"
          ]
        }
      ]
    },
    {
      "cell_type": "markdown",
      "source": [
        "15 - O que é impresso pelo trecho de código a seguir?"
      ],
      "metadata": {
        "id": "n17xhWrQeRKq"
      }
    },
    {
      "cell_type": "code",
      "source": [
        "uma_lista = ['a', 'b', 'c', 'd', 'e', 'f']\n",
        "uma_lista[1:3] = []\n",
        "\n",
        "print(uma_lista) ## passsa um tafia nos elementos 1 e 2 e será substituido por [ ], \"apagando\" os elementos existentes nessa posição"
      ],
      "metadata": {
        "colab": {
          "base_uri": "https://localhost:8080/"
        },
        "id": "abpvMa7IeUOM",
        "outputId": "97e772c6-0736-4ac1-b47f-ae304e2b11f8"
      },
      "execution_count": null,
      "outputs": [
        {
          "output_type": "stream",
          "name": "stdout",
          "text": [
            "['a', 'd', 'e', 'f']\n"
          ]
        }
      ]
    },
    {
      "cell_type": "markdown",
      "source": [
        "16 - O que é impresso pelo trecho de código a seguir?"
      ],
      "metadata": {
        "id": "oQ8mKBtBe1fm"
      }
    },
    {
      "cell_type": "code",
      "source": [
        "uma_lista = ['a', 'd', 'f']\n",
        "uma_lista[1:1] = ['b', 'c']\n",
        "\n",
        "print(uma_lista) ## com a operação [1:1] se passa uma fita nos elementos da lista adicionando novos elementos a essa lista"
      ],
      "metadata": {
        "colab": {
          "base_uri": "https://localhost:8080/"
        },
        "id": "R5f-1KhSe3FZ",
        "outputId": "cbb0249f-21cb-4940-ed82-303dbb893d20"
      },
      "execution_count": null,
      "outputs": [
        {
          "output_type": "stream",
          "name": "stdout",
          "text": [
            "['a', 'b', 'c', 'd', 'f']\n"
          ]
        }
      ]
    },
    {
      "cell_type": "code",
      "source": [
        "uma_lista[4:4] = ['e']\n",
        "\n",
        "print(uma_lista)   ## com a operação [4:4] se passa uma fita nos elementos da lista adicionando um novo elementos a essa lista"
      ],
      "metadata": {
        "colab": {
          "base_uri": "https://localhost:8080/"
        },
        "id": "oNhY0_wEfAIe",
        "outputId": "26acd1b8-bfe1-4d8a-8590-d81e336a3db2"
      },
      "execution_count": null,
      "outputs": [
        {
          "output_type": "stream",
          "name": "stdout",
          "text": [
            "['a', 'b', 'c', 'd', 'e', 'f']\n"
          ]
        }
      ]
    },
    {
      "cell_type": "markdown",
      "source": [
        "17 - O que é impresso pelo trecho de código a seguir?"
      ],
      "metadata": {
        "id": "FcBNlTQbe_kJ"
      }
    },
    {
      "cell_type": "code",
      "source": [
        "uma_lista = [4, 1, 8, 6, 3]\n",
        "uma_lista[2] = True\n",
        "\n",
        "print(uma_lista) ## na posição [2] dos elementos do array há uma substituição do 8 pelo 'True'"
      ],
      "metadata": {
        "colab": {
          "base_uri": "https://localhost:8080/"
        },
        "id": "xw-IO0v5fgsx",
        "outputId": "b24050cd-5e19-4f6c-8eec-1c49a1eb63d9"
      },
      "execution_count": null,
      "outputs": [
        {
          "output_type": "stream",
          "name": "stdout",
          "text": [
            "[4, 1, True, 6, 3]\n"
          ]
        }
      ]
    },
    {
      "cell_type": "markdown",
      "source": [
        "18 - O que é impresso pelo trecho de código a seguir?"
      ],
      "metadata": {
        "id": "rw_5pNvjfzdV"
      }
    },
    {
      "cell_type": "code",
      "source": [
        "a = ['um', 'dois', 'três']\n",
        "del a[1]\n",
        "\n",
        "print(a) ## com a função del, ele pede para deletar o elemento 1 do array, retornando só os demais elementos"
      ],
      "metadata": {
        "colab": {
          "base_uri": "https://localhost:8080/"
        },
        "id": "PsnmoUCKf0qV",
        "outputId": "5c9b1f7d-e832-4535-ba21-0400e4bc59d0"
      },
      "execution_count": null,
      "outputs": [
        {
          "output_type": "stream",
          "name": "stdout",
          "text": [
            "['um', 'três']\n"
          ]
        }
      ]
    },
    {
      "cell_type": "code",
      "source": [
        "lista = ['a', 'b', 'c', 'd', 'e', 'f']\n",
        "del lista[1:5]\n",
        "\n",
        "print(lista) ## é passado uma fatia entre os elementos [1:5], no qual ele deleta esses valores retornando só o restante dos elementos no array"
      ],
      "metadata": {
        "colab": {
          "base_uri": "https://localhost:8080/"
        },
        "id": "EWBGeyidf8YP",
        "outputId": "6ccb5f8d-97db-4a55-c0c5-e05c233273a9"
      },
      "execution_count": null,
      "outputs": [
        {
          "output_type": "stream",
          "name": "stdout",
          "text": [
            "['a', 'f']\n"
          ]
        }
      ]
    },
    {
      "cell_type": "markdown",
      "source": [
        "19 - O que é impresso pelo trecho de código a seguir?"
      ],
      "metadata": {
        "id": "hC4bZiENgsdy"
      }
    },
    {
      "cell_type": "code",
      "source": [
        "lista_a = [4, 1, 8, 6, 3]\n",
        "lista_b = lista_a\n",
        "lista_b[3] = 22\n",
        "\n",
        "print(lista_a) ## ele retorna o valor da lista a, onde foi dito que lista_b = lista_a em que a posição [3] do array foi modificado em lista_b , sendo lista_b = lista_a o elemento é subistituido pelo valor 22"
      ],
      "metadata": {
        "colab": {
          "base_uri": "https://localhost:8080/"
        },
        "id": "44nNs626gu1T",
        "outputId": "a76fd058-a0a9-4c73-fde1-b9d2ce84b3f8"
      },
      "execution_count": null,
      "outputs": [
        {
          "output_type": "stream",
          "name": "stdout",
          "text": [
            "[4, 1, 8, 22, 3]\n"
          ]
        }
      ]
    },
    {
      "cell_type": "markdown",
      "source": [
        " 20- O que é impresso pelo trecho de código a seguir?"
      ],
      "metadata": {
        "id": "Jd3zb96UhjEN"
      }
    },
    {
      "cell_type": "code",
      "source": [
        "lista_original = [5, 6, 7, 8]\n",
        "\n",
        "print(lista_original*3) ## a repetição dos valores da lista_original"
      ],
      "metadata": {
        "colab": {
          "base_uri": "https://localhost:8080/"
        },
        "id": "e5JOrNqehpjO",
        "outputId": "01c1b1a4-e416-443f-d087-ed0cfb4c5fa3"
      },
      "execution_count": null,
      "outputs": [
        {
          "output_type": "stream",
          "name": "stdout",
          "text": [
            "[5, 6, 7, 8, 5, 6, 7, 8, 5, 6, 7, 8]\n"
          ]
        }
      ]
    },
    {
      "cell_type": "markdown",
      "source": [
        "21 -  O que é impresso pelo trecho de código a seguir?"
      ],
      "metadata": {
        "id": "jqP9Zefuhzff"
      }
    },
    {
      "cell_type": "code",
      "source": [
        "lista_original = [5, 6, 7, 8]\n",
        "\n",
        "print(lista_original*3) ## a multiplicação dos valores da lista_original tudo junto no mesmo array"
      ],
      "metadata": {
        "colab": {
          "base_uri": "https://localhost:8080/"
        },
        "id": "uzqQODJNh2yi",
        "outputId": "26812f7f-6960-4a4b-8bdc-6b6beb0d05ea"
      },
      "execution_count": null,
      "outputs": [
        {
          "output_type": "stream",
          "name": "stdout",
          "text": [
            "[5, 6, 7, 8, 5, 6, 7, 8, 5, 6, 7, 8]\n"
          ]
        }
      ]
    },
    {
      "cell_type": "code",
      "source": [
        "lista_nova = [lista_original] * 3\n",
        "\n",
        "print(lista_nova) ##  ele retorna 3 vezes uma referencia da lista_original"
      ],
      "metadata": {
        "colab": {
          "base_uri": "https://localhost:8080/"
        },
        "id": "aCOVDyxQh8Tm",
        "outputId": "35c8a093-25d0-4b3d-918d-c6875d704950"
      },
      "execution_count": null,
      "outputs": [
        {
          "output_type": "stream",
          "name": "stdout",
          "text": [
            "[[5, 6, 7, 8], [5, 6, 7, 8], [5, 6, 7, 8]]\n"
          ]
        }
      ]
    },
    {
      "cell_type": "markdown",
      "source": [
        "22 - O que é impresso pelo trecho de código a seguir?"
      ],
      "metadata": {
        "id": "uBLi1o6hkGBy"
      }
    },
    {
      "cell_type": "code",
      "source": [
        "lista_original = [5, 6, 7, 8]\n",
        "lista_nova = [lista_original] * 3\n",
        "\n",
        "print(lista_nova) ## ele retorna 3 vezes a referencia da lista_original"
      ],
      "metadata": {
        "colab": {
          "base_uri": "https://localhost:8080/"
        },
        "id": "ybQ12dO7kIUZ",
        "outputId": "e647c7bd-d183-4c5d-a115-d88182a545d6"
      },
      "execution_count": null,
      "outputs": [
        {
          "output_type": "stream",
          "name": "stdout",
          "text": [
            "[[5, 6, 7, 8], [5, 6, 7, 8], [5, 6, 7, 8]]\n"
          ]
        }
      ]
    },
    {
      "cell_type": "code",
      "source": [
        "lista_original[1] = 22\n",
        "\n",
        "print(lista_nova) ## ele modifica o ellemnto da posição 1 do array"
      ],
      "metadata": {
        "colab": {
          "base_uri": "https://localhost:8080/"
        },
        "id": "Kbh1lM8nkOyf",
        "outputId": "edfb0b06-826d-4bb1-878a-43a469645dc2"
      },
      "execution_count": null,
      "outputs": [
        {
          "output_type": "stream",
          "name": "stdout",
          "text": [
            "[[5, 22, 7, 8], [5, 22, 7, 8], [5, 22, 7, 8]]\n"
          ]
        }
      ]
    },
    {
      "cell_type": "markdown",
      "source": [
        "23 - O que é impresso pelo trecho de código a seguir?"
      ],
      "metadata": {
        "id": "KlZ7rViUkkUO"
      }
    },
    {
      "cell_type": "code",
      "source": [
        "lista_a = [4, 1, 8, 6, 3]\n",
        "lista_b = lista_a * 2\n",
        "lista_b[3] = 35\n",
        "\n",
        "print(lista_a) ## a lista_a permanece da mesma for, pois foi solicitado a modificação na lista_b"
      ],
      "metadata": {
        "colab": {
          "base_uri": "https://localhost:8080/"
        },
        "id": "JsnMgcm5kmlh",
        "outputId": "e73dbc4b-baee-4d23-880a-5da218b02d32"
      },
      "execution_count": null,
      "outputs": [
        {
          "output_type": "stream",
          "name": "stdout",
          "text": [
            "[4, 1, 8, 6, 3]\n"
          ]
        }
      ]
    },
    {
      "cell_type": "markdown",
      "source": [
        "24 -  O que é impresso pelo trecho de código a seguir?"
      ],
      "metadata": {
        "id": "R1nwREfFlQBf"
      }
    },
    {
      "cell_type": "code",
      "source": [
        "lista_a = [4, 1, 8, 6, 3]\n",
        "lista_b = [lista_a] * 2\n",
        "lista_a[3] = 35\n",
        "\n",
        "print(lista_b) ## as duas sublista da lista b é modificada o elemento 3 do array"
      ],
      "metadata": {
        "colab": {
          "base_uri": "https://localhost:8080/"
        },
        "id": "lRmVZeIhlTz6",
        "outputId": "5dc4bd51-d451-49df-907d-5917e8ecc400"
      },
      "execution_count": null,
      "outputs": [
        {
          "output_type": "stream",
          "name": "stdout",
          "text": [
            "[[4, 1, 8, 35, 3], [4, 1, 8, 35, 3]]\n"
          ]
        }
      ]
    },
    {
      "cell_type": "markdown",
      "source": [
        "25 - O que é impresso pelo trecho de código a seguir?"
      ],
      "metadata": {
        "id": "bMR5ImgAmxSR"
      }
    },
    {
      "cell_type": "code",
      "source": [
        "uma_lista = [4, 1, 8, 6, 3]\n",
        "uma_lista.append(True)\n",
        "uma_lista.append(False)\n",
        "\n",
        "print(uma_lista) ## com a função append() é adicionado os elemento True e False no final da lista do array"
      ],
      "metadata": {
        "colab": {
          "base_uri": "https://localhost:8080/"
        },
        "id": "t51Pe86-myzn",
        "outputId": "870e709b-fdd3-400c-f422-e8f1ccb3f62c"
      },
      "execution_count": null,
      "outputs": [
        {
          "output_type": "stream",
          "name": "stdout",
          "text": [
            "[4, 1, 8, 6, 3, True, False]\n"
          ]
        }
      ]
    },
    {
      "cell_type": "markdown",
      "source": [
        "26 - O que é impresso pelo trecho de código a seguir?"
      ],
      "metadata": {
        "id": "jkJparhwnBcg"
      }
    },
    {
      "cell_type": "code",
      "source": [
        "uma_lista = [4, 1, 8, 6, 3]\n",
        "uma_lista.insert(2,True)\n",
        "uma_lista.insert(0,False)\n",
        "\n",
        "print(uma_lista)  ## com a função insert() é inserido um item em uma determinada posição da lista, ai no caso, na posição 0 o elemento False e na posição 2 o True"
      ],
      "metadata": {
        "colab": {
          "base_uri": "https://localhost:8080/"
        },
        "id": "cQ_ZvR07nEOQ",
        "outputId": "e6266289-0e21-4456-d921-a7ca20ed8d3f"
      },
      "execution_count": null,
      "outputs": [
        {
          "output_type": "stream",
          "name": "stdout",
          "text": [
            "[False, 4, 1, True, 8, 6, 3]\n"
          ]
        }
      ]
    },
    {
      "cell_type": "markdown",
      "source": [
        "27 - O que é impresso pelo trecho de código a seguir?"
      ],
      "metadata": {
        "id": "QzRY_GfNoCZf"
      }
    },
    {
      "cell_type": "code",
      "source": [
        "uma_lista = [4, 1, 8, 6, 3]\n",
        "temp = uma_lista.pop(2)\n",
        "temp = uma_lista.pop()\n",
        "\n",
        "print(uma_lista) ## com a função pop(), é ultilizada para remover um elemento com um indice especifico"
      ],
      "metadata": {
        "colab": {
          "base_uri": "https://localhost:8080/"
        },
        "id": "oxepYewkoEfC",
        "outputId": "b4c8d412-8b8d-4993-a226-4f53b0dca75a"
      },
      "execution_count": null,
      "outputs": [
        {
          "output_type": "stream",
          "name": "stdout",
          "text": [
            "[4, 1, 6]\n"
          ]
        }
      ]
    },
    {
      "cell_type": "markdown",
      "source": [
        "28 - O que é impresso pelo trecho de código a seguir?"
      ],
      "metadata": {
        "id": "Ri7fXNm3ot9v"
      }
    },
    {
      "cell_type": "code",
      "source": [
        "uma_lista = [4, 1, 8, 6, 3]\n",
        "uma_lista = uma_lista.pop(0)\n",
        "\n",
        "print(uma_lista) ## ele remove o elemento da posição 0 do array"
      ],
      "metadata": {
        "colab": {
          "base_uri": "https://localhost:8080/"
        },
        "id": "m9iZ7rn5ow5T",
        "outputId": "239cc5fc-5299-48dc-8cd1-62527707cf63"
      },
      "execution_count": null,
      "outputs": [
        {
          "output_type": "stream",
          "name": "stdout",
          "text": [
            "4\n"
          ]
        }
      ]
    }
  ]
}